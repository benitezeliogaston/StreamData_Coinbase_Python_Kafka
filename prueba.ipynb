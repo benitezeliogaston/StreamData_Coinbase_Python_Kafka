{
 "cells": [
  {
   "cell_type": "code",
   "execution_count": 5,
   "metadata": {},
   "outputs": [
    {
     "data": {
      "image/png": "[encoded data removed]",
      "text/plain": [
       "<Figure size 640x480 with 1 Axes>"
      ]
     },
     "metadata": {},
     "output_type": "display_data"
    }
   ],
   "source": [
    "import matplotlib.pyplot as plt\n",
    "\n",
    "# Datos estáticos\n",
    "criptomonedas = [1, 1.5]  # Ajusta los valores del eje X para que las burbujas estén más cerca\n",
    "cantidades = [50, 120]  # Cantidades de criptomonedas transferidas\n",
    "tamaño_burbujas = [500, 1200]  # El tamaño de las burbujas refleja la magnitud\n",
    "\n",
    "# Crear el gráfico de burbujas\n",
    "plt.scatter(criptomonedas, cantidades, s=tamaño_burbujas, alpha=0.5, color=['blue', 'green'])\n",
    "\n",
    "# Títulos y etiquetas\n",
    "plt.title('Cantidad de Criptomonedas Transferidas')\n",
    "plt.xlabel('Criptomonedas')\n",
    "plt.ylabel('Cantidad Transferida')\n",
    "\n",
    "# Etiquetas personalizadas en el eje X\n",
    "plt.xticks([1, 1.5], ['BTC', 'ETH'])\n",
    "\n",
    "# Mostrar el gráfico\n",
    "plt.show()\n"
   ]
  },
  {
   "cell_type": "code",
   "execution_count": null,
   "metadata": {},
   "outputs": [],
   "source": [
    "import dash\n",
    "from dash import dcc, html\n",
    "from dash.dependencies import Input, Output, State\n",
    "import plotly.express as px\n",
    "import pandas as pd\n",
    "\n",
    "# Crear una aplicación Dash\n",
    "app = dash.Dash(__name__)\n",
    "\n",
    "# Datos de ejemplo\n",
    "df = pd.DataFrame({\n",
    "    \"Criptomonedas\": [\"BTC\", \"ETH\", \"BNB\", \"SOL\", \"XRP\"],\n",
    "    \"Cantidad\": [50, 120, 70, 80, 90],\n",
    "    \"Cambio\": [2.1, 1.2, 1.2, 6.1, 0.7]\n",
    "})\n",
    "\n",
    "# Layout de la aplicación\n",
    "app.layout = html.Div(children=[\n",
    "    html.H1(children='Gráfico de Burbujas de Criptomonedas'),\n",
    "\n",
    "    # Componente de gráfico\n",
    "    dcc.Graph(id='bubble-graph'),\n",
    "\n",
    "    # Componente Intervalo para incrementar el contador cada 5 segundos\n",
    "    dcc.Interval(\n",
    "        id='interval-component',\n",
    "        interval=1*100,  # Intervalo de 5 segundos\n",
    "        n_intervals=0  # Iniciar en 0\n",
    "    ),\n",
    "    \n",
    "    # Componente oculto para almacenar el valor del contador\n",
    "    dcc.Store(id='counter', data=0),\n",
    "\n",
    "    html.Div(id='contador-display', children='Contador: 0')\n",
    "])\n",
    "\n",
    "# Callback para incrementar el contador en cada intervalo\n",
    "@app.callback(\n",
    "    [Output('bubble-graph', 'figure'),\n",
    "     Output('counter', 'data'),\n",
    "     Output('contador-display', 'children')],\n",
    "    [Input('interval-component', 'n_intervals')],\n",
    "    [State('counter', 'data')]\n",
    ")\n",
    "def update_graph(n_intervals, counter):\n",
    "    # Incrementar el contador\n",
    "    counter += 1\n",
    "\n",
    "    # Verificar si el contador ha llegado a 100\n",
    "    if counter >= 100:\n",
    "        # Resetear el contador\n",
    "        counter = 0\n",
    "\n",
    "        # Actualizar el gráfico\n",
    "        fig = px.scatter(df, x=\"Criptomonedas\", y=\"Cambio\", size=\"Cantidad\", color=\"Criptomonedas\",\n",
    "                         hover_name=\"Criptomonedas\", size_max=100)\n",
    "        fig.update_layout(title=f'Actualización del gráfico al llegar a 100 iteraciones')\n",
    "    else:\n",
    "        # No cambiar el gráfico, mantener el anterior\n",
    "        fig = dash.no_update\n",
    "\n",
    "    # Actualizar el contador en la pantalla\n",
    "    contador_texto = f\"Contador: {counter}\"\n",
    "\n",
    "    return fig, counter, contador_texto\n",
    "\n",
    "\n",
    "# Ejecutar la aplicación en el servidor local\n",
    "if __name__ == '__main__':\n",
    "    app.run_server(debug=True, port=8050)\n"
   ]
  },
  {
   "cell_type": "code",
   "execution_count": 1,
   "metadata": {},
   "outputs": [
    {
     "data": {
      "text/html": [
       "\n",
       "        <iframe\n",
       "            width=\"100%\"\n",
       "            height=\"650\"\n",
       "            src=\"http://127.0.0.1:8050/\"\n",
       "            frameborder=\"0\"\n",
       "            allowfullscreen\n",
       "            \n",
       "        ></iframe>\n",
       "        "
      ],
      "text/plain": [
       "<IPython.lib.display.IFrame at 0x7feb61126150>"
      ]
     },
     "metadata": {},
     "output_type": "display_data"
    }
   ],
   "source": [
    "import dash\n",
    "from dash import dcc, html\n",
    "import plotly.express as px\n",
    "import pandas as pd\n",
    "\n",
    "# Crear una aplicación Dash\n",
    "app = dash.Dash(__name__)\n",
    "\n",
    "# Datos de ejemplo\n",
    "df = pd.DataFrame({\n",
    "    \"Criptomonedas\": [\"BTC\", \"ETH\", \"BNB\", \"SOL\", \"XRP\"],\n",
    "    \"Cantidad\": [50, 120, 70, 80, 90],\n",
    "    \"Cambio\": [2.1, 1.2, 1.2, 6.1, 0.7]\n",
    "})\n",
    "\n",
    "# Gráfico de burbujas\n",
    "fig = px.scatter(df, x=\"Criptomonedas\", y=\"Cambio\", size=\"Cantidad\", color=\"Criptomonedas\",\n",
    "                 hover_name=\"Criptomonedas\", size_max=100)\n",
    "\n",
    "# Layout de la aplicación\n",
    "app.layout = html.Div(children=[\n",
    "    html.H1(children='Gráfico de Burbujas de Criptomonedas'),\n",
    "\n",
    "    dcc.Graph(\n",
    "        id='example-graph',\n",
    "        figure=fig\n",
    "    )\n",
    "])\n",
    "\n",
    "# Ejecutar la aplicación en el servidor local\n",
    "if __name__ == '__main__':\n",
    "    app.run_server(debug=True, port=8050)\n"
   ]
  }
 ],
 "metadata": {
  "kernelspec": {
   "display_name": "env",
   "language": "python",
   "name": "python3"
  },
  "language_info": {
   "codemirror_mode": {
    "name": "ipython",
    "version": 3
   },
   "file_extension": ".py",
   "mimetype": "text/x-python",
   "name": "python",
   "nbconvert_exporter": "python",
   "pygments_lexer": "ipython3",
   "version": "3.12.3"
  }
 },
 "nbformat": 4,
 "nbformat_minor": 2
}
